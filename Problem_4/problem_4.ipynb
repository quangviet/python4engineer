{
  "nbformat": 4,
  "nbformat_minor": 0,
  "metadata": {
    "colab": {
      "provenance": [],
      "authorship_tag": "ABX9TyPEovmgYWf5Kxf9ZbwClXI7",
      "include_colab_link": true
    },
    "kernelspec": {
      "name": "python3",
      "display_name": "Python 3"
    },
    "language_info": {
      "name": "python"
    }
  },
  "cells": [
    {
      "cell_type": "markdown",
      "metadata": {
        "id": "view-in-github",
        "colab_type": "text"
      },
      "source": [
        "<a href=\"https://colab.research.google.com/github/quangviet/python4engineer/blob/main/Problem_4/problem_4.ipynb\" target=\"_parent\"><img src=\"https://colab.research.google.com/assets/colab-badge.svg\" alt=\"Open In Colab\"/></a>"
      ]
    },
    {
      "cell_type": "markdown",
      "source": [
        "Thông tin học viên\n",
        "\n",
        "Học viên: Phạm Quang Việt\n",
        "\n",
        "Mã học viên: 22MSE23069\n",
        "\n",
        "Email: viet22mse23069@fsb.edu.vn"
      ],
      "metadata": {
        "id": "c23XCW_1uLHF"
      }
    },
    {
      "cell_type": "markdown",
      "source": [
        "Bài 4 - Hãy sử dụng Python và Jupyter Notebook để trả lời các câu hỏi sau:\n",
        "- Tiền xử lý dữ liệu (xử lý các trường hợp thiếu dữ liệu, chuẩn hóa ngày tháng, đơn vị,...).\n",
        "- Vẽ biểu đồ thể hiện biến động doanh số theo tháng. Cho biết doanh thu trung bình trong 3 tháng gần nhất.\n",
        "- Vẽ biểu đồ doanh số bán hàng theo quý và cho biết quý nào có tổng doanh số cao nhất?\n",
        "- Tính thời gian trung giao hàng trung bình (ship date - order date) theo từng tháng và vẽ biểu đồ mô tả sự biến thiên của con số này.\n",
        "- Vẽ biểu đồ thể hiện sức mua theo từng thành phố. Cho biết top 3 thành phố có doanh số thấp nhất và 3 thành phố có doanh số cao nhất.\n",
        "- Vẽ biểu đồ thể hiện tỉ trọng doanh số theo bang (state) và cho biết trung bình doanh số của 5 bang dẫn đầu về sức mua.\n",
        "- Cho biết các bang dẫn đầu doanh số theo từng vùng (east, west, south, central,..).\n",
        "- Cho biết top 3 sản phẩm có doanh thu cao nhất và top 3 sản phẩm có số lượng đơn vị bán ra cao nhất.\n",
        "- Vẽ biểu đồ thể hiện tỉ trọng doanh số của từng category.\n",
        "- Dự báo doanh số theo nhiều khía cạnh khác nhau trong tương lai: theo vùng, theo bang, theo category,..  và phát hành API để khai thác.\n"
      ],
      "metadata": {
        "id": "ahiu6R82iR38"
      }
    },
    {
      "cell_type": "markdown",
      "source": [
        "Note: Do không có yêu cầu bắt buộc nên bày này sử dụng tiếng Anh để tiện comment và sử dụng đúng các thuật ngữ (term)"
      ],
      "metadata": {
        "id": "pS3a_Pw2UIlC"
      }
    },
    {
      "cell_type": "markdown",
      "source": [
        "## Prepare data"
      ],
      "metadata": {
        "id": "JhYgWJWuUgEG"
      }
    },
    {
      "cell_type": "code",
      "execution_count": 1,
      "metadata": {
        "colab": {
          "base_uri": "https://localhost:8080/"
        },
        "id": "ZSwKeXH2g5s8",
        "outputId": "8a8f4d14-f1ef-4533-cecb-949baa941d5a"
      },
      "outputs": [
        {
          "output_type": "stream",
          "name": "stdout",
          "text": [
            "env: KAGGLE_USERNAME=quangviet\n",
            "env: KAGGLE_KEY=e78ec69319c278806b1208176ad50255\n",
            "Downloading sales-forecasting.zip to /content\n",
            "  0% 0.00/480k [00:00<?, ?B/s]\n",
            "100% 480k/480k [00:00<00:00, 85.5MB/s]\n",
            "Archive:  /content/sales-forecasting.zip\n",
            "  inflating: ./input/train.csv       \n"
          ]
        }
      ],
      "source": [
        "%env KAGGLE_USERNAME=quangviet\n",
        "%env KAGGLE_KEY=e78ec69319c278806b1208176ad50255\n",
        "!kaggle datasets download -d rohitsahoo/sales-forecasting\n",
        "!unzip -o /content/sales-forecasting.zip -d ./input"
      ]
    },
    {
      "cell_type": "code",
      "source": [
        "import numpy as np # linear algebra\n",
        "import pandas as pd # data processing, CSV file I/O (e.g. pd.read_csv)\n",
        "\n",
        "import matplotlib.pyplot as plt\n",
        "\n",
        "import os\n",
        "for dirname, _, filenames in os.walk('./input'):\n",
        "    for filename in filenames:\n",
        "        print(os.path.join(dirname, filename))\n",
        "\n",
        "df = pd.read_csv('./input/train.csv')"
      ],
      "metadata": {
        "colab": {
          "base_uri": "https://localhost:8080/"
        },
        "id": "_VCup5oTh2qO",
        "outputId": "6964a209-13b2-4b16-f221-147190ec359a"
      },
      "execution_count": 2,
      "outputs": [
        {
          "output_type": "stream",
          "name": "stdout",
          "text": [
            "./input/train.csv\n"
          ]
        }
      ]
    },
    {
      "cell_type": "markdown",
      "source": [
        "### Check dataset information"
      ],
      "metadata": {
        "id": "FMHmKb8PUl4s"
      }
    },
    {
      "cell_type": "code",
      "source": [
        "df.info()"
      ],
      "metadata": {
        "colab": {
          "base_uri": "https://localhost:8080/"
        },
        "id": "xWRirUoXh73g",
        "outputId": "436e71ec-0073-4bec-b5f2-593b86e69c89"
      },
      "execution_count": 3,
      "outputs": [
        {
          "output_type": "stream",
          "name": "stdout",
          "text": [
            "<class 'pandas.core.frame.DataFrame'>\n",
            "RangeIndex: 9800 entries, 0 to 9799\n",
            "Data columns (total 18 columns):\n",
            " #   Column         Non-Null Count  Dtype  \n",
            "---  ------         --------------  -----  \n",
            " 0   Row ID         9800 non-null   int64  \n",
            " 1   Order ID       9800 non-null   object \n",
            " 2   Order Date     9800 non-null   object \n",
            " 3   Ship Date      9800 non-null   object \n",
            " 4   Ship Mode      9800 non-null   object \n",
            " 5   Customer ID    9800 non-null   object \n",
            " 6   Customer Name  9800 non-null   object \n",
            " 7   Segment        9800 non-null   object \n",
            " 8   Country        9800 non-null   object \n",
            " 9   City           9800 non-null   object \n",
            " 10  State          9800 non-null   object \n",
            " 11  Postal Code    9789 non-null   float64\n",
            " 12  Region         9800 non-null   object \n",
            " 13  Product ID     9800 non-null   object \n",
            " 14  Category       9800 non-null   object \n",
            " 15  Sub-Category   9800 non-null   object \n",
            " 16  Product Name   9800 non-null   object \n",
            " 17  Sales          9800 non-null   float64\n",
            "dtypes: float64(2), int64(1), object(15)\n",
            "memory usage: 1.3+ MB\n"
          ]
        }
      ]
    },
    {
      "cell_type": "code",
      "source": [
        "df[:3]"
      ],
      "metadata": {
        "colab": {
          "base_uri": "https://localhost:8080/",
          "height": 254
        },
        "id": "PA8J0Lz4iB6R",
        "outputId": "2bf3376d-2396-4924-fa70-b76394eb2250"
      },
      "execution_count": 4,
      "outputs": [
        {
          "output_type": "execute_result",
          "data": {
            "text/plain": [
              "   Row ID        Order ID  Order Date   Ship Date     Ship Mode Customer ID  \\\n",
              "0       1  CA-2017-152156  08/11/2017  11/11/2017  Second Class    CG-12520   \n",
              "1       2  CA-2017-152156  08/11/2017  11/11/2017  Second Class    CG-12520   \n",
              "2       3  CA-2017-138688  12/06/2017  16/06/2017  Second Class    DV-13045   \n",
              "\n",
              "     Customer Name    Segment        Country         City       State  \\\n",
              "0      Claire Gute   Consumer  United States    Henderson    Kentucky   \n",
              "1      Claire Gute   Consumer  United States    Henderson    Kentucky   \n",
              "2  Darrin Van Huff  Corporate  United States  Los Angeles  California   \n",
              "\n",
              "   Postal Code Region       Product ID         Category Sub-Category  \\\n",
              "0      42420.0  South  FUR-BO-10001798        Furniture    Bookcases   \n",
              "1      42420.0  South  FUR-CH-10000454        Furniture       Chairs   \n",
              "2      90036.0   West  OFF-LA-10000240  Office Supplies       Labels   \n",
              "\n",
              "                                        Product Name   Sales  \n",
              "0                  Bush Somerset Collection Bookcase  261.96  \n",
              "1  Hon Deluxe Fabric Upholstered Stacking Chairs,...  731.94  \n",
              "2  Self-Adhesive Address Labels for Typewriters b...   14.62  "
            ],
            "text/html": [
              "\n",
              "  <div id=\"df-90701dff-a43d-4385-8e29-ba971cdd3af1\">\n",
              "    <div class=\"colab-df-container\">\n",
              "      <div>\n",
              "<style scoped>\n",
              "    .dataframe tbody tr th:only-of-type {\n",
              "        vertical-align: middle;\n",
              "    }\n",
              "\n",
              "    .dataframe tbody tr th {\n",
              "        vertical-align: top;\n",
              "    }\n",
              "\n",
              "    .dataframe thead th {\n",
              "        text-align: right;\n",
              "    }\n",
              "</style>\n",
              "<table border=\"1\" class=\"dataframe\">\n",
              "  <thead>\n",
              "    <tr style=\"text-align: right;\">\n",
              "      <th></th>\n",
              "      <th>Row ID</th>\n",
              "      <th>Order ID</th>\n",
              "      <th>Order Date</th>\n",
              "      <th>Ship Date</th>\n",
              "      <th>Ship Mode</th>\n",
              "      <th>Customer ID</th>\n",
              "      <th>Customer Name</th>\n",
              "      <th>Segment</th>\n",
              "      <th>Country</th>\n",
              "      <th>City</th>\n",
              "      <th>State</th>\n",
              "      <th>Postal Code</th>\n",
              "      <th>Region</th>\n",
              "      <th>Product ID</th>\n",
              "      <th>Category</th>\n",
              "      <th>Sub-Category</th>\n",
              "      <th>Product Name</th>\n",
              "      <th>Sales</th>\n",
              "    </tr>\n",
              "  </thead>\n",
              "  <tbody>\n",
              "    <tr>\n",
              "      <th>0</th>\n",
              "      <td>1</td>\n",
              "      <td>CA-2017-152156</td>\n",
              "      <td>08/11/2017</td>\n",
              "      <td>11/11/2017</td>\n",
              "      <td>Second Class</td>\n",
              "      <td>CG-12520</td>\n",
              "      <td>Claire Gute</td>\n",
              "      <td>Consumer</td>\n",
              "      <td>United States</td>\n",
              "      <td>Henderson</td>\n",
              "      <td>Kentucky</td>\n",
              "      <td>42420.0</td>\n",
              "      <td>South</td>\n",
              "      <td>FUR-BO-10001798</td>\n",
              "      <td>Furniture</td>\n",
              "      <td>Bookcases</td>\n",
              "      <td>Bush Somerset Collection Bookcase</td>\n",
              "      <td>261.96</td>\n",
              "    </tr>\n",
              "    <tr>\n",
              "      <th>1</th>\n",
              "      <td>2</td>\n",
              "      <td>CA-2017-152156</td>\n",
              "      <td>08/11/2017</td>\n",
              "      <td>11/11/2017</td>\n",
              "      <td>Second Class</td>\n",
              "      <td>CG-12520</td>\n",
              "      <td>Claire Gute</td>\n",
              "      <td>Consumer</td>\n",
              "      <td>United States</td>\n",
              "      <td>Henderson</td>\n",
              "      <td>Kentucky</td>\n",
              "      <td>42420.0</td>\n",
              "      <td>South</td>\n",
              "      <td>FUR-CH-10000454</td>\n",
              "      <td>Furniture</td>\n",
              "      <td>Chairs</td>\n",
              "      <td>Hon Deluxe Fabric Upholstered Stacking Chairs,...</td>\n",
              "      <td>731.94</td>\n",
              "    </tr>\n",
              "    <tr>\n",
              "      <th>2</th>\n",
              "      <td>3</td>\n",
              "      <td>CA-2017-138688</td>\n",
              "      <td>12/06/2017</td>\n",
              "      <td>16/06/2017</td>\n",
              "      <td>Second Class</td>\n",
              "      <td>DV-13045</td>\n",
              "      <td>Darrin Van Huff</td>\n",
              "      <td>Corporate</td>\n",
              "      <td>United States</td>\n",
              "      <td>Los Angeles</td>\n",
              "      <td>California</td>\n",
              "      <td>90036.0</td>\n",
              "      <td>West</td>\n",
              "      <td>OFF-LA-10000240</td>\n",
              "      <td>Office Supplies</td>\n",
              "      <td>Labels</td>\n",
              "      <td>Self-Adhesive Address Labels for Typewriters b...</td>\n",
              "      <td>14.62</td>\n",
              "    </tr>\n",
              "  </tbody>\n",
              "</table>\n",
              "</div>\n",
              "      <button class=\"colab-df-convert\" onclick=\"convertToInteractive('df-90701dff-a43d-4385-8e29-ba971cdd3af1')\"\n",
              "              title=\"Convert this dataframe to an interactive table.\"\n",
              "              style=\"display:none;\">\n",
              "        \n",
              "  <svg xmlns=\"http://www.w3.org/2000/svg\" height=\"24px\"viewBox=\"0 0 24 24\"\n",
              "       width=\"24px\">\n",
              "    <path d=\"M0 0h24v24H0V0z\" fill=\"none\"/>\n",
              "    <path d=\"M18.56 5.44l.94 2.06.94-2.06 2.06-.94-2.06-.94-.94-2.06-.94 2.06-2.06.94zm-11 1L8.5 8.5l.94-2.06 2.06-.94-2.06-.94L8.5 2.5l-.94 2.06-2.06.94zm10 10l.94 2.06.94-2.06 2.06-.94-2.06-.94-.94-2.06-.94 2.06-2.06.94z\"/><path d=\"M17.41 7.96l-1.37-1.37c-.4-.4-.92-.59-1.43-.59-.52 0-1.04.2-1.43.59L10.3 9.45l-7.72 7.72c-.78.78-.78 2.05 0 2.83L4 21.41c.39.39.9.59 1.41.59.51 0 1.02-.2 1.41-.59l7.78-7.78 2.81-2.81c.8-.78.8-2.07 0-2.86zM5.41 20L4 18.59l7.72-7.72 1.47 1.35L5.41 20z\"/>\n",
              "  </svg>\n",
              "      </button>\n",
              "      \n",
              "  <style>\n",
              "    .colab-df-container {\n",
              "      display:flex;\n",
              "      flex-wrap:wrap;\n",
              "      gap: 12px;\n",
              "    }\n",
              "\n",
              "    .colab-df-convert {\n",
              "      background-color: #E8F0FE;\n",
              "      border: none;\n",
              "      border-radius: 50%;\n",
              "      cursor: pointer;\n",
              "      display: none;\n",
              "      fill: #1967D2;\n",
              "      height: 32px;\n",
              "      padding: 0 0 0 0;\n",
              "      width: 32px;\n",
              "    }\n",
              "\n",
              "    .colab-df-convert:hover {\n",
              "      background-color: #E2EBFA;\n",
              "      box-shadow: 0px 1px 2px rgba(60, 64, 67, 0.3), 0px 1px 3px 1px rgba(60, 64, 67, 0.15);\n",
              "      fill: #174EA6;\n",
              "    }\n",
              "\n",
              "    [theme=dark] .colab-df-convert {\n",
              "      background-color: #3B4455;\n",
              "      fill: #D2E3FC;\n",
              "    }\n",
              "\n",
              "    [theme=dark] .colab-df-convert:hover {\n",
              "      background-color: #434B5C;\n",
              "      box-shadow: 0px 1px 3px 1px rgba(0, 0, 0, 0.15);\n",
              "      filter: drop-shadow(0px 1px 2px rgba(0, 0, 0, 0.3));\n",
              "      fill: #FFFFFF;\n",
              "    }\n",
              "  </style>\n",
              "\n",
              "      <script>\n",
              "        const buttonEl =\n",
              "          document.querySelector('#df-90701dff-a43d-4385-8e29-ba971cdd3af1 button.colab-df-convert');\n",
              "        buttonEl.style.display =\n",
              "          google.colab.kernel.accessAllowed ? 'block' : 'none';\n",
              "\n",
              "        async function convertToInteractive(key) {\n",
              "          const element = document.querySelector('#df-90701dff-a43d-4385-8e29-ba971cdd3af1');\n",
              "          const dataTable =\n",
              "            await google.colab.kernel.invokeFunction('convertToInteractive',\n",
              "                                                     [key], {});\n",
              "          if (!dataTable) return;\n",
              "\n",
              "          const docLinkHtml = 'Like what you see? Visit the ' +\n",
              "            '<a target=\"_blank\" href=https://colab.research.google.com/notebooks/data_table.ipynb>data table notebook</a>'\n",
              "            + ' to learn more about interactive tables.';\n",
              "          element.innerHTML = '';\n",
              "          dataTable['output_type'] = 'display_data';\n",
              "          await google.colab.output.renderOutput(dataTable, element);\n",
              "          const docLink = document.createElement('div');\n",
              "          docLink.innerHTML = docLinkHtml;\n",
              "          element.appendChild(docLink);\n",
              "        }\n",
              "      </script>\n",
              "    </div>\n",
              "  </div>\n",
              "  "
            ]
          },
          "metadata": {},
          "execution_count": 4
        }
      ]
    },
    {
      "cell_type": "markdown",
      "source": [
        "## 1. Preprocessing\n",
        "> Tiền xử lý dữ liệu (xử lý các trường hợp thiếu dữ liệu, chuẩn hóa ngày tháng, đơn vị,...)."
      ],
      "metadata": {
        "id": "j_CqmhMKweS8"
      }
    },
    {
      "cell_type": "code",
      "source": [
        "# Kiểm tra null\n",
        "df.isnull().sum()"
      ],
      "metadata": {
        "colab": {
          "base_uri": "https://localhost:8080/"
        },
        "id": "WKzLhol9ueCU",
        "outputId": "71684872-8b05-49a3-bf86-357399f670f3"
      },
      "execution_count": 5,
      "outputs": [
        {
          "output_type": "execute_result",
          "data": {
            "text/plain": [
              "Row ID            0\n",
              "Order ID          0\n",
              "Order Date        0\n",
              "Ship Date         0\n",
              "Ship Mode         0\n",
              "Customer ID       0\n",
              "Customer Name     0\n",
              "Segment           0\n",
              "Country           0\n",
              "City              0\n",
              "State             0\n",
              "Postal Code      11\n",
              "Region            0\n",
              "Product ID        0\n",
              "Category          0\n",
              "Sub-Category      0\n",
              "Product Name      0\n",
              "Sales             0\n",
              "dtype: int64"
            ]
          },
          "metadata": {},
          "execution_count": 5
        }
      ]
    },
    {
      "cell_type": "markdown",
      "source": [
        "Only 11 null in postal code. Other fields are ok"
      ],
      "metadata": {
        "id": "FrlFvGjXuryn"
      }
    },
    {
      "cell_type": "code",
      "source": [
        "# List all row with null. All in Burlington, Vermont\n",
        "df[df.isnull().any(axis=1)]"
      ],
      "metadata": {
        "colab": {
          "base_uri": "https://localhost:8080/",
          "height": 638
        },
        "id": "CkB6-Rrzw7da",
        "outputId": "eb8435c9-b19e-4c86-a459-1e63f23af0a5"
      },
      "execution_count": 6,
      "outputs": [
        {
          "output_type": "execute_result",
          "data": {
            "text/plain": [
              "      Row ID        Order ID  Order Date   Ship Date       Ship Mode  \\\n",
              "2234    2235  CA-2018-104066  05/12/2018  10/12/2018  Standard Class   \n",
              "5274    5275  CA-2016-162887  07/11/2016  09/11/2016    Second Class   \n",
              "8798    8799  US-2017-150140  06/04/2017  10/04/2017  Standard Class   \n",
              "9146    9147  US-2017-165505  23/01/2017  27/01/2017  Standard Class   \n",
              "9147    9148  US-2017-165505  23/01/2017  27/01/2017  Standard Class   \n",
              "9148    9149  US-2017-165505  23/01/2017  27/01/2017  Standard Class   \n",
              "9386    9387  US-2018-127292  19/01/2018  23/01/2018  Standard Class   \n",
              "9387    9388  US-2018-127292  19/01/2018  23/01/2018  Standard Class   \n",
              "9388    9389  US-2018-127292  19/01/2018  23/01/2018  Standard Class   \n",
              "9389    9390  US-2018-127292  19/01/2018  23/01/2018  Standard Class   \n",
              "9741    9742  CA-2016-117086  08/11/2016  12/11/2016  Standard Class   \n",
              "\n",
              "     Customer ID     Customer Name      Segment        Country        City  \\\n",
              "2234    QJ-19255      Quincy Jones    Corporate  United States  Burlington   \n",
              "5274    SV-20785  Stewart Visinsky     Consumer  United States  Burlington   \n",
              "8798    VM-21685   Valerie Mitchum  Home Office  United States  Burlington   \n",
              "9146    CB-12535  Claudia Bergmann    Corporate  United States  Burlington   \n",
              "9147    CB-12535  Claudia Bergmann    Corporate  United States  Burlington   \n",
              "9148    CB-12535  Claudia Bergmann    Corporate  United States  Burlington   \n",
              "9386    RM-19375     Raymond Messe     Consumer  United States  Burlington   \n",
              "9387    RM-19375     Raymond Messe     Consumer  United States  Burlington   \n",
              "9388    RM-19375     Raymond Messe     Consumer  United States  Burlington   \n",
              "9389    RM-19375     Raymond Messe     Consumer  United States  Burlington   \n",
              "9741    QJ-19255      Quincy Jones    Corporate  United States  Burlington   \n",
              "\n",
              "        State  Postal Code Region       Product ID         Category  \\\n",
              "2234  Vermont          NaN   East  TEC-AC-10001013       Technology   \n",
              "5274  Vermont          NaN   East  FUR-CH-10000595        Furniture   \n",
              "8798  Vermont          NaN   East  TEC-PH-10002555       Technology   \n",
              "9146  Vermont          NaN   East  TEC-AC-10002926       Technology   \n",
              "9147  Vermont          NaN   East  OFF-AR-10003477  Office Supplies   \n",
              "9148  Vermont          NaN   East  OFF-ST-10001526  Office Supplies   \n",
              "9386  Vermont          NaN   East  OFF-PA-10000157  Office Supplies   \n",
              "9387  Vermont          NaN   East  OFF-PA-10001970  Office Supplies   \n",
              "9388  Vermont          NaN   East  OFF-AP-10000828  Office Supplies   \n",
              "9389  Vermont          NaN   East  OFF-EN-10001509  Office Supplies   \n",
              "9741  Vermont          NaN   East  FUR-BO-10004834        Furniture   \n",
              "\n",
              "     Sub-Category                                       Product Name    Sales  \n",
              "2234  Accessories        Logitech ClearChat Comfort/USB Headset H390   205.03  \n",
              "5274       Chairs                    Safco Contoured Stacking Chairs   715.20  \n",
              "8798       Phones                Nortel Meridian M5316 Digital phone  1294.75  \n",
              "9146  Accessories              Logitech Wireless Marathon Mouse M705    99.98  \n",
              "9147          Art                                  4009 Highlighters     8.04  \n",
              "9148      Storage              Iceberg Mobile Mega Data/Printer Cart  1564.29  \n",
              "9386        Paper                                          Xerox 191    79.92  \n",
              "9387        Paper                                         Xerox 1881    12.28  \n",
              "9388   Appliances                    Avanti 4.4 Cu. Ft. Refrigerator   542.94  \n",
              "9389    Envelopes                          Poly String Tie Envelopes     2.04  \n",
              "9741    Bookcases  Riverside Palais Royal Lawyers Bookcase, Royal...  4404.90  "
            ],
            "text/html": [
              "\n",
              "  <div id=\"df-22230d9d-839c-43e3-ab6e-ae19fd2a428b\">\n",
              "    <div class=\"colab-df-container\">\n",
              "      <div>\n",
              "<style scoped>\n",
              "    .dataframe tbody tr th:only-of-type {\n",
              "        vertical-align: middle;\n",
              "    }\n",
              "\n",
              "    .dataframe tbody tr th {\n",
              "        vertical-align: top;\n",
              "    }\n",
              "\n",
              "    .dataframe thead th {\n",
              "        text-align: right;\n",
              "    }\n",
              "</style>\n",
              "<table border=\"1\" class=\"dataframe\">\n",
              "  <thead>\n",
              "    <tr style=\"text-align: right;\">\n",
              "      <th></th>\n",
              "      <th>Row ID</th>\n",
              "      <th>Order ID</th>\n",
              "      <th>Order Date</th>\n",
              "      <th>Ship Date</th>\n",
              "      <th>Ship Mode</th>\n",
              "      <th>Customer ID</th>\n",
              "      <th>Customer Name</th>\n",
              "      <th>Segment</th>\n",
              "      <th>Country</th>\n",
              "      <th>City</th>\n",
              "      <th>State</th>\n",
              "      <th>Postal Code</th>\n",
              "      <th>Region</th>\n",
              "      <th>Product ID</th>\n",
              "      <th>Category</th>\n",
              "      <th>Sub-Category</th>\n",
              "      <th>Product Name</th>\n",
              "      <th>Sales</th>\n",
              "    </tr>\n",
              "  </thead>\n",
              "  <tbody>\n",
              "    <tr>\n",
              "      <th>2234</th>\n",
              "      <td>2235</td>\n",
              "      <td>CA-2018-104066</td>\n",
              "      <td>05/12/2018</td>\n",
              "      <td>10/12/2018</td>\n",
              "      <td>Standard Class</td>\n",
              "      <td>QJ-19255</td>\n",
              "      <td>Quincy Jones</td>\n",
              "      <td>Corporate</td>\n",
              "      <td>United States</td>\n",
              "      <td>Burlington</td>\n",
              "      <td>Vermont</td>\n",
              "      <td>NaN</td>\n",
              "      <td>East</td>\n",
              "      <td>TEC-AC-10001013</td>\n",
              "      <td>Technology</td>\n",
              "      <td>Accessories</td>\n",
              "      <td>Logitech ClearChat Comfort/USB Headset H390</td>\n",
              "      <td>205.03</td>\n",
              "    </tr>\n",
              "    <tr>\n",
              "      <th>5274</th>\n",
              "      <td>5275</td>\n",
              "      <td>CA-2016-162887</td>\n",
              "      <td>07/11/2016</td>\n",
              "      <td>09/11/2016</td>\n",
              "      <td>Second Class</td>\n",
              "      <td>SV-20785</td>\n",
              "      <td>Stewart Visinsky</td>\n",
              "      <td>Consumer</td>\n",
              "      <td>United States</td>\n",
              "      <td>Burlington</td>\n",
              "      <td>Vermont</td>\n",
              "      <td>NaN</td>\n",
              "      <td>East</td>\n",
              "      <td>FUR-CH-10000595</td>\n",
              "      <td>Furniture</td>\n",
              "      <td>Chairs</td>\n",
              "      <td>Safco Contoured Stacking Chairs</td>\n",
              "      <td>715.20</td>\n",
              "    </tr>\n",
              "    <tr>\n",
              "      <th>8798</th>\n",
              "      <td>8799</td>\n",
              "      <td>US-2017-150140</td>\n",
              "      <td>06/04/2017</td>\n",
              "      <td>10/04/2017</td>\n",
              "      <td>Standard Class</td>\n",
              "      <td>VM-21685</td>\n",
              "      <td>Valerie Mitchum</td>\n",
              "      <td>Home Office</td>\n",
              "      <td>United States</td>\n",
              "      <td>Burlington</td>\n",
              "      <td>Vermont</td>\n",
              "      <td>NaN</td>\n",
              "      <td>East</td>\n",
              "      <td>TEC-PH-10002555</td>\n",
              "      <td>Technology</td>\n",
              "      <td>Phones</td>\n",
              "      <td>Nortel Meridian M5316 Digital phone</td>\n",
              "      <td>1294.75</td>\n",
              "    </tr>\n",
              "    <tr>\n",
              "      <th>9146</th>\n",
              "      <td>9147</td>\n",
              "      <td>US-2017-165505</td>\n",
              "      <td>23/01/2017</td>\n",
              "      <td>27/01/2017</td>\n",
              "      <td>Standard Class</td>\n",
              "      <td>CB-12535</td>\n",
              "      <td>Claudia Bergmann</td>\n",
              "      <td>Corporate</td>\n",
              "      <td>United States</td>\n",
              "      <td>Burlington</td>\n",
              "      <td>Vermont</td>\n",
              "      <td>NaN</td>\n",
              "      <td>East</td>\n",
              "      <td>TEC-AC-10002926</td>\n",
              "      <td>Technology</td>\n",
              "      <td>Accessories</td>\n",
              "      <td>Logitech Wireless Marathon Mouse M705</td>\n",
              "      <td>99.98</td>\n",
              "    </tr>\n",
              "    <tr>\n",
              "      <th>9147</th>\n",
              "      <td>9148</td>\n",
              "      <td>US-2017-165505</td>\n",
              "      <td>23/01/2017</td>\n",
              "      <td>27/01/2017</td>\n",
              "      <td>Standard Class</td>\n",
              "      <td>CB-12535</td>\n",
              "      <td>Claudia Bergmann</td>\n",
              "      <td>Corporate</td>\n",
              "      <td>United States</td>\n",
              "      <td>Burlington</td>\n",
              "      <td>Vermont</td>\n",
              "      <td>NaN</td>\n",
              "      <td>East</td>\n",
              "      <td>OFF-AR-10003477</td>\n",
              "      <td>Office Supplies</td>\n",
              "      <td>Art</td>\n",
              "      <td>4009 Highlighters</td>\n",
              "      <td>8.04</td>\n",
              "    </tr>\n",
              "    <tr>\n",
              "      <th>9148</th>\n",
              "      <td>9149</td>\n",
              "      <td>US-2017-165505</td>\n",
              "      <td>23/01/2017</td>\n",
              "      <td>27/01/2017</td>\n",
              "      <td>Standard Class</td>\n",
              "      <td>CB-12535</td>\n",
              "      <td>Claudia Bergmann</td>\n",
              "      <td>Corporate</td>\n",
              "      <td>United States</td>\n",
              "      <td>Burlington</td>\n",
              "      <td>Vermont</td>\n",
              "      <td>NaN</td>\n",
              "      <td>East</td>\n",
              "      <td>OFF-ST-10001526</td>\n",
              "      <td>Office Supplies</td>\n",
              "      <td>Storage</td>\n",
              "      <td>Iceberg Mobile Mega Data/Printer Cart</td>\n",
              "      <td>1564.29</td>\n",
              "    </tr>\n",
              "    <tr>\n",
              "      <th>9386</th>\n",
              "      <td>9387</td>\n",
              "      <td>US-2018-127292</td>\n",
              "      <td>19/01/2018</td>\n",
              "      <td>23/01/2018</td>\n",
              "      <td>Standard Class</td>\n",
              "      <td>RM-19375</td>\n",
              "      <td>Raymond Messe</td>\n",
              "      <td>Consumer</td>\n",
              "      <td>United States</td>\n",
              "      <td>Burlington</td>\n",
              "      <td>Vermont</td>\n",
              "      <td>NaN</td>\n",
              "      <td>East</td>\n",
              "      <td>OFF-PA-10000157</td>\n",
              "      <td>Office Supplies</td>\n",
              "      <td>Paper</td>\n",
              "      <td>Xerox 191</td>\n",
              "      <td>79.92</td>\n",
              "    </tr>\n",
              "    <tr>\n",
              "      <th>9387</th>\n",
              "      <td>9388</td>\n",
              "      <td>US-2018-127292</td>\n",
              "      <td>19/01/2018</td>\n",
              "      <td>23/01/2018</td>\n",
              "      <td>Standard Class</td>\n",
              "      <td>RM-19375</td>\n",
              "      <td>Raymond Messe</td>\n",
              "      <td>Consumer</td>\n",
              "      <td>United States</td>\n",
              "      <td>Burlington</td>\n",
              "      <td>Vermont</td>\n",
              "      <td>NaN</td>\n",
              "      <td>East</td>\n",
              "      <td>OFF-PA-10001970</td>\n",
              "      <td>Office Supplies</td>\n",
              "      <td>Paper</td>\n",
              "      <td>Xerox 1881</td>\n",
              "      <td>12.28</td>\n",
              "    </tr>\n",
              "    <tr>\n",
              "      <th>9388</th>\n",
              "      <td>9389</td>\n",
              "      <td>US-2018-127292</td>\n",
              "      <td>19/01/2018</td>\n",
              "      <td>23/01/2018</td>\n",
              "      <td>Standard Class</td>\n",
              "      <td>RM-19375</td>\n",
              "      <td>Raymond Messe</td>\n",
              "      <td>Consumer</td>\n",
              "      <td>United States</td>\n",
              "      <td>Burlington</td>\n",
              "      <td>Vermont</td>\n",
              "      <td>NaN</td>\n",
              "      <td>East</td>\n",
              "      <td>OFF-AP-10000828</td>\n",
              "      <td>Office Supplies</td>\n",
              "      <td>Appliances</td>\n",
              "      <td>Avanti 4.4 Cu. Ft. Refrigerator</td>\n",
              "      <td>542.94</td>\n",
              "    </tr>\n",
              "    <tr>\n",
              "      <th>9389</th>\n",
              "      <td>9390</td>\n",
              "      <td>US-2018-127292</td>\n",
              "      <td>19/01/2018</td>\n",
              "      <td>23/01/2018</td>\n",
              "      <td>Standard Class</td>\n",
              "      <td>RM-19375</td>\n",
              "      <td>Raymond Messe</td>\n",
              "      <td>Consumer</td>\n",
              "      <td>United States</td>\n",
              "      <td>Burlington</td>\n",
              "      <td>Vermont</td>\n",
              "      <td>NaN</td>\n",
              "      <td>East</td>\n",
              "      <td>OFF-EN-10001509</td>\n",
              "      <td>Office Supplies</td>\n",
              "      <td>Envelopes</td>\n",
              "      <td>Poly String Tie Envelopes</td>\n",
              "      <td>2.04</td>\n",
              "    </tr>\n",
              "    <tr>\n",
              "      <th>9741</th>\n",
              "      <td>9742</td>\n",
              "      <td>CA-2016-117086</td>\n",
              "      <td>08/11/2016</td>\n",
              "      <td>12/11/2016</td>\n",
              "      <td>Standard Class</td>\n",
              "      <td>QJ-19255</td>\n",
              "      <td>Quincy Jones</td>\n",
              "      <td>Corporate</td>\n",
              "      <td>United States</td>\n",
              "      <td>Burlington</td>\n",
              "      <td>Vermont</td>\n",
              "      <td>NaN</td>\n",
              "      <td>East</td>\n",
              "      <td>FUR-BO-10004834</td>\n",
              "      <td>Furniture</td>\n",
              "      <td>Bookcases</td>\n",
              "      <td>Riverside Palais Royal Lawyers Bookcase, Royal...</td>\n",
              "      <td>4404.90</td>\n",
              "    </tr>\n",
              "  </tbody>\n",
              "</table>\n",
              "</div>\n",
              "      <button class=\"colab-df-convert\" onclick=\"convertToInteractive('df-22230d9d-839c-43e3-ab6e-ae19fd2a428b')\"\n",
              "              title=\"Convert this dataframe to an interactive table.\"\n",
              "              style=\"display:none;\">\n",
              "        \n",
              "  <svg xmlns=\"http://www.w3.org/2000/svg\" height=\"24px\"viewBox=\"0 0 24 24\"\n",
              "       width=\"24px\">\n",
              "    <path d=\"M0 0h24v24H0V0z\" fill=\"none\"/>\n",
              "    <path d=\"M18.56 5.44l.94 2.06.94-2.06 2.06-.94-2.06-.94-.94-2.06-.94 2.06-2.06.94zm-11 1L8.5 8.5l.94-2.06 2.06-.94-2.06-.94L8.5 2.5l-.94 2.06-2.06.94zm10 10l.94 2.06.94-2.06 2.06-.94-2.06-.94-.94-2.06-.94 2.06-2.06.94z\"/><path d=\"M17.41 7.96l-1.37-1.37c-.4-.4-.92-.59-1.43-.59-.52 0-1.04.2-1.43.59L10.3 9.45l-7.72 7.72c-.78.78-.78 2.05 0 2.83L4 21.41c.39.39.9.59 1.41.59.51 0 1.02-.2 1.41-.59l7.78-7.78 2.81-2.81c.8-.78.8-2.07 0-2.86zM5.41 20L4 18.59l7.72-7.72 1.47 1.35L5.41 20z\"/>\n",
              "  </svg>\n",
              "      </button>\n",
              "      \n",
              "  <style>\n",
              "    .colab-df-container {\n",
              "      display:flex;\n",
              "      flex-wrap:wrap;\n",
              "      gap: 12px;\n",
              "    }\n",
              "\n",
              "    .colab-df-convert {\n",
              "      background-color: #E8F0FE;\n",
              "      border: none;\n",
              "      border-radius: 50%;\n",
              "      cursor: pointer;\n",
              "      display: none;\n",
              "      fill: #1967D2;\n",
              "      height: 32px;\n",
              "      padding: 0 0 0 0;\n",
              "      width: 32px;\n",
              "    }\n",
              "\n",
              "    .colab-df-convert:hover {\n",
              "      background-color: #E2EBFA;\n",
              "      box-shadow: 0px 1px 2px rgba(60, 64, 67, 0.3), 0px 1px 3px 1px rgba(60, 64, 67, 0.15);\n",
              "      fill: #174EA6;\n",
              "    }\n",
              "\n",
              "    [theme=dark] .colab-df-convert {\n",
              "      background-color: #3B4455;\n",
              "      fill: #D2E3FC;\n",
              "    }\n",
              "\n",
              "    [theme=dark] .colab-df-convert:hover {\n",
              "      background-color: #434B5C;\n",
              "      box-shadow: 0px 1px 3px 1px rgba(0, 0, 0, 0.15);\n",
              "      filter: drop-shadow(0px 1px 2px rgba(0, 0, 0, 0.3));\n",
              "      fill: #FFFFFF;\n",
              "    }\n",
              "  </style>\n",
              "\n",
              "      <script>\n",
              "        const buttonEl =\n",
              "          document.querySelector('#df-22230d9d-839c-43e3-ab6e-ae19fd2a428b button.colab-df-convert');\n",
              "        buttonEl.style.display =\n",
              "          google.colab.kernel.accessAllowed ? 'block' : 'none';\n",
              "\n",
              "        async function convertToInteractive(key) {\n",
              "          const element = document.querySelector('#df-22230d9d-839c-43e3-ab6e-ae19fd2a428b');\n",
              "          const dataTable =\n",
              "            await google.colab.kernel.invokeFunction('convertToInteractive',\n",
              "                                                     [key], {});\n",
              "          if (!dataTable) return;\n",
              "\n",
              "          const docLinkHtml = 'Like what you see? Visit the ' +\n",
              "            '<a target=\"_blank\" href=https://colab.research.google.com/notebooks/data_table.ipynb>data table notebook</a>'\n",
              "            + ' to learn more about interactive tables.';\n",
              "          element.innerHTML = '';\n",
              "          dataTable['output_type'] = 'display_data';\n",
              "          await google.colab.output.renderOutput(dataTable, element);\n",
              "          const docLink = document.createElement('div');\n",
              "          docLink.innerHTML = docLinkHtml;\n",
              "          element.appendChild(docLink);\n",
              "        }\n",
              "      </script>\n",
              "    </div>\n",
              "  </div>\n",
              "  "
            ]
          },
          "metadata": {},
          "execution_count": 6
        }
      ]
    },
    {
      "cell_type": "code",
      "source": [
        "# Drop row with null\n",
        "# df = df.dropna()\n",
        "# df.info()"
      ],
      "metadata": {
        "id": "vs-BzjupvUOD"
      },
      "execution_count": 7,
      "outputs": []
    },
    {
      "cell_type": "code",
      "source": [
        "df['Order Date'] = pd.to_datetime(df['Order Date'], format = '%d/%m/%Y')\n",
        "df['Ship Date'] = pd.to_datetime(df['Ship Date'], format = '%d/%m/%Y')\n",
        "\n",
        "#calculate sum of values, grouped by quarter\n",
        "# df.groupby(df['date'].dt.to_period('Q'))['values'].sum()\n",
        "\n",
        "df"
      ],
      "metadata": {
        "colab": {
          "base_uri": "https://localhost:8080/",
          "height": 650
        },
        "id": "ZmbR5nlryrDO",
        "outputId": "0fd65c4d-dd4b-41cb-f0b7-27a4b98e3187"
      },
      "execution_count": 111,
      "outputs": [
        {
          "output_type": "execute_result",
          "data": {
            "text/plain": [
              "      Row ID        Order ID Order Date  Ship Date       Ship Mode  \\\n",
              "0          1  CA-2017-152156 2017-11-08 2017-11-11    Second Class   \n",
              "1          2  CA-2017-152156 2017-11-08 2017-11-11    Second Class   \n",
              "2          3  CA-2017-138688 2017-06-12 2017-06-16    Second Class   \n",
              "3          4  US-2016-108966 2016-10-11 2016-10-18  Standard Class   \n",
              "4          5  US-2016-108966 2016-10-11 2016-10-18  Standard Class   \n",
              "...      ...             ...        ...        ...             ...   \n",
              "9795    9796  CA-2017-125920 2017-05-21 2017-05-28  Standard Class   \n",
              "9796    9797  CA-2016-128608 2016-01-12 2016-01-17  Standard Class   \n",
              "9797    9798  CA-2016-128608 2016-01-12 2016-01-17  Standard Class   \n",
              "9798    9799  CA-2016-128608 2016-01-12 2016-01-17  Standard Class   \n",
              "9799    9800  CA-2016-128608 2016-01-12 2016-01-17  Standard Class   \n",
              "\n",
              "     Customer ID     Customer Name    Segment        Country             City  \\\n",
              "0       CG-12520       Claire Gute   Consumer  United States        Henderson   \n",
              "1       CG-12520       Claire Gute   Consumer  United States        Henderson   \n",
              "2       DV-13045   Darrin Van Huff  Corporate  United States      Los Angeles   \n",
              "3       SO-20335    Sean O'Donnell   Consumer  United States  Fort Lauderdale   \n",
              "4       SO-20335    Sean O'Donnell   Consumer  United States  Fort Lauderdale   \n",
              "...          ...               ...        ...            ...              ...   \n",
              "9795    SH-19975     Sally Hughsby  Corporate  United States          Chicago   \n",
              "9796    CS-12490  Cindy Schnelling  Corporate  United States           Toledo   \n",
              "9797    CS-12490  Cindy Schnelling  Corporate  United States           Toledo   \n",
              "9798    CS-12490  Cindy Schnelling  Corporate  United States           Toledo   \n",
              "9799    CS-12490  Cindy Schnelling  Corporate  United States           Toledo   \n",
              "\n",
              "           State  Postal Code   Region       Product ID         Category  \\\n",
              "0       Kentucky      42420.0    South  FUR-BO-10001798        Furniture   \n",
              "1       Kentucky      42420.0    South  FUR-CH-10000454        Furniture   \n",
              "2     California      90036.0     West  OFF-LA-10000240  Office Supplies   \n",
              "3        Florida      33311.0    South  FUR-TA-10000577        Furniture   \n",
              "4        Florida      33311.0    South  OFF-ST-10000760  Office Supplies   \n",
              "...          ...          ...      ...              ...              ...   \n",
              "9795    Illinois      60610.0  Central  OFF-BI-10003429  Office Supplies   \n",
              "9796        Ohio      43615.0     East  OFF-AR-10001374  Office Supplies   \n",
              "9797        Ohio      43615.0     East  TEC-PH-10004977       Technology   \n",
              "9798        Ohio      43615.0     East  TEC-PH-10000912       Technology   \n",
              "9799        Ohio      43615.0     East  TEC-AC-10000487       Technology   \n",
              "\n",
              "     Sub-Category                                       Product Name     Sales  \n",
              "0       Bookcases                  Bush Somerset Collection Bookcase  261.9600  \n",
              "1          Chairs  Hon Deluxe Fabric Upholstered Stacking Chairs,...  731.9400  \n",
              "2          Labels  Self-Adhesive Address Labels for Typewriters b...   14.6200  \n",
              "3          Tables      Bretford CR4500 Series Slim Rectangular Table  957.5775  \n",
              "4         Storage                     Eldon Fold 'N Roll Cart System   22.3680  \n",
              "...           ...                                                ...       ...  \n",
              "9795      Binders  Cardinal HOLDit! Binder Insert Strips,Extra St...    3.7980  \n",
              "9796          Art           BIC Brite Liner Highlighters, Chisel Tip   10.3680  \n",
              "9797       Phones                                        GE 30524EE4  235.1880  \n",
              "9798       Phones           Anker 24W Portable Micro USB Car Charger   26.3760  \n",
              "9799  Accessories                SanDisk Cruzer 4 GB USB Flash Drive   10.3840  \n",
              "\n",
              "[9800 rows x 18 columns]"
            ],
            "text/html": [
              "\n",
              "  <div id=\"df-530eaa87-7011-4569-a80f-acebc9557be0\">\n",
              "    <div class=\"colab-df-container\">\n",
              "      <div>\n",
              "<style scoped>\n",
              "    .dataframe tbody tr th:only-of-type {\n",
              "        vertical-align: middle;\n",
              "    }\n",
              "\n",
              "    .dataframe tbody tr th {\n",
              "        vertical-align: top;\n",
              "    }\n",
              "\n",
              "    .dataframe thead th {\n",
              "        text-align: right;\n",
              "    }\n",
              "</style>\n",
              "<table border=\"1\" class=\"dataframe\">\n",
              "  <thead>\n",
              "    <tr style=\"text-align: right;\">\n",
              "      <th></th>\n",
              "      <th>Row ID</th>\n",
              "      <th>Order ID</th>\n",
              "      <th>Order Date</th>\n",
              "      <th>Ship Date</th>\n",
              "      <th>Ship Mode</th>\n",
              "      <th>Customer ID</th>\n",
              "      <th>Customer Name</th>\n",
              "      <th>Segment</th>\n",
              "      <th>Country</th>\n",
              "      <th>City</th>\n",
              "      <th>State</th>\n",
              "      <th>Postal Code</th>\n",
              "      <th>Region</th>\n",
              "      <th>Product ID</th>\n",
              "      <th>Category</th>\n",
              "      <th>Sub-Category</th>\n",
              "      <th>Product Name</th>\n",
              "      <th>Sales</th>\n",
              "    </tr>\n",
              "  </thead>\n",
              "  <tbody>\n",
              "    <tr>\n",
              "      <th>0</th>\n",
              "      <td>1</td>\n",
              "      <td>CA-2017-152156</td>\n",
              "      <td>2017-11-08</td>\n",
              "      <td>2017-11-11</td>\n",
              "      <td>Second Class</td>\n",
              "      <td>CG-12520</td>\n",
              "      <td>Claire Gute</td>\n",
              "      <td>Consumer</td>\n",
              "      <td>United States</td>\n",
              "      <td>Henderson</td>\n",
              "      <td>Kentucky</td>\n",
              "      <td>42420.0</td>\n",
              "      <td>South</td>\n",
              "      <td>FUR-BO-10001798</td>\n",
              "      <td>Furniture</td>\n",
              "      <td>Bookcases</td>\n",
              "      <td>Bush Somerset Collection Bookcase</td>\n",
              "      <td>261.9600</td>\n",
              "    </tr>\n",
              "    <tr>\n",
              "      <th>1</th>\n",
              "      <td>2</td>\n",
              "      <td>CA-2017-152156</td>\n",
              "      <td>2017-11-08</td>\n",
              "      <td>2017-11-11</td>\n",
              "      <td>Second Class</td>\n",
              "      <td>CG-12520</td>\n",
              "      <td>Claire Gute</td>\n",
              "      <td>Consumer</td>\n",
              "      <td>United States</td>\n",
              "      <td>Henderson</td>\n",
              "      <td>Kentucky</td>\n",
              "      <td>42420.0</td>\n",
              "      <td>South</td>\n",
              "      <td>FUR-CH-10000454</td>\n",
              "      <td>Furniture</td>\n",
              "      <td>Chairs</td>\n",
              "      <td>Hon Deluxe Fabric Upholstered Stacking Chairs,...</td>\n",
              "      <td>731.9400</td>\n",
              "    </tr>\n",
              "    <tr>\n",
              "      <th>2</th>\n",
              "      <td>3</td>\n",
              "      <td>CA-2017-138688</td>\n",
              "      <td>2017-06-12</td>\n",
              "      <td>2017-06-16</td>\n",
              "      <td>Second Class</td>\n",
              "      <td>DV-13045</td>\n",
              "      <td>Darrin Van Huff</td>\n",
              "      <td>Corporate</td>\n",
              "      <td>United States</td>\n",
              "      <td>Los Angeles</td>\n",
              "      <td>California</td>\n",
              "      <td>90036.0</td>\n",
              "      <td>West</td>\n",
              "      <td>OFF-LA-10000240</td>\n",
              "      <td>Office Supplies</td>\n",
              "      <td>Labels</td>\n",
              "      <td>Self-Adhesive Address Labels for Typewriters b...</td>\n",
              "      <td>14.6200</td>\n",
              "    </tr>\n",
              "    <tr>\n",
              "      <th>3</th>\n",
              "      <td>4</td>\n",
              "      <td>US-2016-108966</td>\n",
              "      <td>2016-10-11</td>\n",
              "      <td>2016-10-18</td>\n",
              "      <td>Standard Class</td>\n",
              "      <td>SO-20335</td>\n",
              "      <td>Sean O'Donnell</td>\n",
              "      <td>Consumer</td>\n",
              "      <td>United States</td>\n",
              "      <td>Fort Lauderdale</td>\n",
              "      <td>Florida</td>\n",
              "      <td>33311.0</td>\n",
              "      <td>South</td>\n",
              "      <td>FUR-TA-10000577</td>\n",
              "      <td>Furniture</td>\n",
              "      <td>Tables</td>\n",
              "      <td>Bretford CR4500 Series Slim Rectangular Table</td>\n",
              "      <td>957.5775</td>\n",
              "    </tr>\n",
              "    <tr>\n",
              "      <th>4</th>\n",
              "      <td>5</td>\n",
              "      <td>US-2016-108966</td>\n",
              "      <td>2016-10-11</td>\n",
              "      <td>2016-10-18</td>\n",
              "      <td>Standard Class</td>\n",
              "      <td>SO-20335</td>\n",
              "      <td>Sean O'Donnell</td>\n",
              "      <td>Consumer</td>\n",
              "      <td>United States</td>\n",
              "      <td>Fort Lauderdale</td>\n",
              "      <td>Florida</td>\n",
              "      <td>33311.0</td>\n",
              "      <td>South</td>\n",
              "      <td>OFF-ST-10000760</td>\n",
              "      <td>Office Supplies</td>\n",
              "      <td>Storage</td>\n",
              "      <td>Eldon Fold 'N Roll Cart System</td>\n",
              "      <td>22.3680</td>\n",
              "    </tr>\n",
              "    <tr>\n",
              "      <th>...</th>\n",
              "      <td>...</td>\n",
              "      <td>...</td>\n",
              "      <td>...</td>\n",
              "      <td>...</td>\n",
              "      <td>...</td>\n",
              "      <td>...</td>\n",
              "      <td>...</td>\n",
              "      <td>...</td>\n",
              "      <td>...</td>\n",
              "      <td>...</td>\n",
              "      <td>...</td>\n",
              "      <td>...</td>\n",
              "      <td>...</td>\n",
              "      <td>...</td>\n",
              "      <td>...</td>\n",
              "      <td>...</td>\n",
              "      <td>...</td>\n",
              "      <td>...</td>\n",
              "    </tr>\n",
              "    <tr>\n",
              "      <th>9795</th>\n",
              "      <td>9796</td>\n",
              "      <td>CA-2017-125920</td>\n",
              "      <td>2017-05-21</td>\n",
              "      <td>2017-05-28</td>\n",
              "      <td>Standard Class</td>\n",
              "      <td>SH-19975</td>\n",
              "      <td>Sally Hughsby</td>\n",
              "      <td>Corporate</td>\n",
              "      <td>United States</td>\n",
              "      <td>Chicago</td>\n",
              "      <td>Illinois</td>\n",
              "      <td>60610.0</td>\n",
              "      <td>Central</td>\n",
              "      <td>OFF-BI-10003429</td>\n",
              "      <td>Office Supplies</td>\n",
              "      <td>Binders</td>\n",
              "      <td>Cardinal HOLDit! Binder Insert Strips,Extra St...</td>\n",
              "      <td>3.7980</td>\n",
              "    </tr>\n",
              "    <tr>\n",
              "      <th>9796</th>\n",
              "      <td>9797</td>\n",
              "      <td>CA-2016-128608</td>\n",
              "      <td>2016-01-12</td>\n",
              "      <td>2016-01-17</td>\n",
              "      <td>Standard Class</td>\n",
              "      <td>CS-12490</td>\n",
              "      <td>Cindy Schnelling</td>\n",
              "      <td>Corporate</td>\n",
              "      <td>United States</td>\n",
              "      <td>Toledo</td>\n",
              "      <td>Ohio</td>\n",
              "      <td>43615.0</td>\n",
              "      <td>East</td>\n",
              "      <td>OFF-AR-10001374</td>\n",
              "      <td>Office Supplies</td>\n",
              "      <td>Art</td>\n",
              "      <td>BIC Brite Liner Highlighters, Chisel Tip</td>\n",
              "      <td>10.3680</td>\n",
              "    </tr>\n",
              "    <tr>\n",
              "      <th>9797</th>\n",
              "      <td>9798</td>\n",
              "      <td>CA-2016-128608</td>\n",
              "      <td>2016-01-12</td>\n",
              "      <td>2016-01-17</td>\n",
              "      <td>Standard Class</td>\n",
              "      <td>CS-12490</td>\n",
              "      <td>Cindy Schnelling</td>\n",
              "      <td>Corporate</td>\n",
              "      <td>United States</td>\n",
              "      <td>Toledo</td>\n",
              "      <td>Ohio</td>\n",
              "      <td>43615.0</td>\n",
              "      <td>East</td>\n",
              "      <td>TEC-PH-10004977</td>\n",
              "      <td>Technology</td>\n",
              "      <td>Phones</td>\n",
              "      <td>GE 30524EE4</td>\n",
              "      <td>235.1880</td>\n",
              "    </tr>\n",
              "    <tr>\n",
              "      <th>9798</th>\n",
              "      <td>9799</td>\n",
              "      <td>CA-2016-128608</td>\n",
              "      <td>2016-01-12</td>\n",
              "      <td>2016-01-17</td>\n",
              "      <td>Standard Class</td>\n",
              "      <td>CS-12490</td>\n",
              "      <td>Cindy Schnelling</td>\n",
              "      <td>Corporate</td>\n",
              "      <td>United States</td>\n",
              "      <td>Toledo</td>\n",
              "      <td>Ohio</td>\n",
              "      <td>43615.0</td>\n",
              "      <td>East</td>\n",
              "      <td>TEC-PH-10000912</td>\n",
              "      <td>Technology</td>\n",
              "      <td>Phones</td>\n",
              "      <td>Anker 24W Portable Micro USB Car Charger</td>\n",
              "      <td>26.3760</td>\n",
              "    </tr>\n",
              "    <tr>\n",
              "      <th>9799</th>\n",
              "      <td>9800</td>\n",
              "      <td>CA-2016-128608</td>\n",
              "      <td>2016-01-12</td>\n",
              "      <td>2016-01-17</td>\n",
              "      <td>Standard Class</td>\n",
              "      <td>CS-12490</td>\n",
              "      <td>Cindy Schnelling</td>\n",
              "      <td>Corporate</td>\n",
              "      <td>United States</td>\n",
              "      <td>Toledo</td>\n",
              "      <td>Ohio</td>\n",
              "      <td>43615.0</td>\n",
              "      <td>East</td>\n",
              "      <td>TEC-AC-10000487</td>\n",
              "      <td>Technology</td>\n",
              "      <td>Accessories</td>\n",
              "      <td>SanDisk Cruzer 4 GB USB Flash Drive</td>\n",
              "      <td>10.3840</td>\n",
              "    </tr>\n",
              "  </tbody>\n",
              "</table>\n",
              "<p>9800 rows × 18 columns</p>\n",
              "</div>\n",
              "      <button class=\"colab-df-convert\" onclick=\"convertToInteractive('df-530eaa87-7011-4569-a80f-acebc9557be0')\"\n",
              "              title=\"Convert this dataframe to an interactive table.\"\n",
              "              style=\"display:none;\">\n",
              "        \n",
              "  <svg xmlns=\"http://www.w3.org/2000/svg\" height=\"24px\"viewBox=\"0 0 24 24\"\n",
              "       width=\"24px\">\n",
              "    <path d=\"M0 0h24v24H0V0z\" fill=\"none\"/>\n",
              "    <path d=\"M18.56 5.44l.94 2.06.94-2.06 2.06-.94-2.06-.94-.94-2.06-.94 2.06-2.06.94zm-11 1L8.5 8.5l.94-2.06 2.06-.94-2.06-.94L8.5 2.5l-.94 2.06-2.06.94zm10 10l.94 2.06.94-2.06 2.06-.94-2.06-.94-.94-2.06-.94 2.06-2.06.94z\"/><path d=\"M17.41 7.96l-1.37-1.37c-.4-.4-.92-.59-1.43-.59-.52 0-1.04.2-1.43.59L10.3 9.45l-7.72 7.72c-.78.78-.78 2.05 0 2.83L4 21.41c.39.39.9.59 1.41.59.51 0 1.02-.2 1.41-.59l7.78-7.78 2.81-2.81c.8-.78.8-2.07 0-2.86zM5.41 20L4 18.59l7.72-7.72 1.47 1.35L5.41 20z\"/>\n",
              "  </svg>\n",
              "      </button>\n",
              "      \n",
              "  <style>\n",
              "    .colab-df-container {\n",
              "      display:flex;\n",
              "      flex-wrap:wrap;\n",
              "      gap: 12px;\n",
              "    }\n",
              "\n",
              "    .colab-df-convert {\n",
              "      background-color: #E8F0FE;\n",
              "      border: none;\n",
              "      border-radius: 50%;\n",
              "      cursor: pointer;\n",
              "      display: none;\n",
              "      fill: #1967D2;\n",
              "      height: 32px;\n",
              "      padding: 0 0 0 0;\n",
              "      width: 32px;\n",
              "    }\n",
              "\n",
              "    .colab-df-convert:hover {\n",
              "      background-color: #E2EBFA;\n",
              "      box-shadow: 0px 1px 2px rgba(60, 64, 67, 0.3), 0px 1px 3px 1px rgba(60, 64, 67, 0.15);\n",
              "      fill: #174EA6;\n",
              "    }\n",
              "\n",
              "    [theme=dark] .colab-df-convert {\n",
              "      background-color: #3B4455;\n",
              "      fill: #D2E3FC;\n",
              "    }\n",
              "\n",
              "    [theme=dark] .colab-df-convert:hover {\n",
              "      background-color: #434B5C;\n",
              "      box-shadow: 0px 1px 3px 1px rgba(0, 0, 0, 0.15);\n",
              "      filter: drop-shadow(0px 1px 2px rgba(0, 0, 0, 0.3));\n",
              "      fill: #FFFFFF;\n",
              "    }\n",
              "  </style>\n",
              "\n",
              "      <script>\n",
              "        const buttonEl =\n",
              "          document.querySelector('#df-530eaa87-7011-4569-a80f-acebc9557be0 button.colab-df-convert');\n",
              "        buttonEl.style.display =\n",
              "          google.colab.kernel.accessAllowed ? 'block' : 'none';\n",
              "\n",
              "        async function convertToInteractive(key) {\n",
              "          const element = document.querySelector('#df-530eaa87-7011-4569-a80f-acebc9557be0');\n",
              "          const dataTable =\n",
              "            await google.colab.kernel.invokeFunction('convertToInteractive',\n",
              "                                                     [key], {});\n",
              "          if (!dataTable) return;\n",
              "\n",
              "          const docLinkHtml = 'Like what you see? Visit the ' +\n",
              "            '<a target=\"_blank\" href=https://colab.research.google.com/notebooks/data_table.ipynb>data table notebook</a>'\n",
              "            + ' to learn more about interactive tables.';\n",
              "          element.innerHTML = '';\n",
              "          dataTable['output_type'] = 'display_data';\n",
              "          await google.colab.output.renderOutput(dataTable, element);\n",
              "          const docLink = document.createElement('div');\n",
              "          docLink.innerHTML = docLinkHtml;\n",
              "          element.appendChild(docLink);\n",
              "        }\n",
              "      </script>\n",
              "    </div>\n",
              "  </div>\n",
              "  "
            ]
          },
          "metadata": {},
          "execution_count": 111
        }
      ]
    },
    {
      "cell_type": "code",
      "source": [
        "df.nunique()"
      ],
      "metadata": {
        "colab": {
          "base_uri": "https://localhost:8080/"
        },
        "id": "aSwj1myQ2XlA",
        "outputId": "204218aa-45bb-4113-9a57-ed5380251385"
      },
      "execution_count": 9,
      "outputs": [
        {
          "output_type": "execute_result",
          "data": {
            "text/plain": [
              "Row ID           9800\n",
              "Order ID         4922\n",
              "Order Date       1230\n",
              "Ship Date        1326\n",
              "Ship Mode           4\n",
              "Customer ID       793\n",
              "Customer Name     793\n",
              "Segment             3\n",
              "Country             1\n",
              "City              529\n",
              "State              49\n",
              "Postal Code       626\n",
              "Region              4\n",
              "Product ID       1861\n",
              "Category            3\n",
              "Sub-Category       17\n",
              "Product Name     1849\n",
              "Sales            5757\n",
              "dtype: int64"
            ]
          },
          "metadata": {},
          "execution_count": 9
        }
      ]
    },
    {
      "cell_type": "code",
      "source": [
        "df['Ship Mode'].unique()"
      ],
      "metadata": {
        "colab": {
          "base_uri": "https://localhost:8080/"
        },
        "id": "egIjDztT2ndQ",
        "outputId": "337975f7-783f-4f56-89a5-414bfd2eed4c"
      },
      "execution_count": 10,
      "outputs": [
        {
          "output_type": "execute_result",
          "data": {
            "text/plain": [
              "array(['Second Class', 'Standard Class', 'First Class', 'Same Day'],\n",
              "      dtype=object)"
            ]
          },
          "metadata": {},
          "execution_count": 10
        }
      ]
    },
    {
      "cell_type": "code",
      "source": [
        "df['Region'].unique()"
      ],
      "metadata": {
        "colab": {
          "base_uri": "https://localhost:8080/"
        },
        "id": "Pd2EKfLi2z0X",
        "outputId": "b3a6f811-f633-42d9-ec57-f55a4c0d244f"
      },
      "execution_count": 11,
      "outputs": [
        {
          "output_type": "execute_result",
          "data": {
            "text/plain": [
              "array(['South', 'West', 'Central', 'East'], dtype=object)"
            ]
          },
          "metadata": {},
          "execution_count": 11
        }
      ]
    },
    {
      "cell_type": "code",
      "source": [
        "df['Category'].unique()"
      ],
      "metadata": {
        "colab": {
          "base_uri": "https://localhost:8080/"
        },
        "id": "HXqJQ5pm24lK",
        "outputId": "2a324f6e-c4de-454e-9267-dbd5a31dc95e"
      },
      "execution_count": 12,
      "outputs": [
        {
          "output_type": "execute_result",
          "data": {
            "text/plain": [
              "array(['Furniture', 'Office Supplies', 'Technology'], dtype=object)"
            ]
          },
          "metadata": {},
          "execution_count": 12
        }
      ]
    },
    {
      "cell_type": "code",
      "source": [
        "df['Segment'].unique()"
      ],
      "metadata": {
        "colab": {
          "base_uri": "https://localhost:8080/"
        },
        "id": "NfTtiA2S2_Xw",
        "outputId": "bb12fa56-e9a4-48d4-e688-d377fb073b3b"
      },
      "execution_count": 13,
      "outputs": [
        {
          "output_type": "execute_result",
          "data": {
            "text/plain": [
              "array(['Consumer', 'Corporate', 'Home Office'], dtype=object)"
            ]
          },
          "metadata": {},
          "execution_count": 13
        }
      ]
    },
    {
      "cell_type": "code",
      "source": [
        "df['Order Date'].min(), df['Order Date'].max()"
      ],
      "metadata": {
        "colab": {
          "base_uri": "https://localhost:8080/"
        },
        "id": "A0TDg9P43Q_z",
        "outputId": "79b8806e-1a3f-4e07-c9b4-9711c7a62ce8"
      },
      "execution_count": 14,
      "outputs": [
        {
          "output_type": "execute_result",
          "data": {
            "text/plain": [
              "(Timestamp('2015-01-03 00:00:00'), Timestamp('2018-12-30 00:00:00'))"
            ]
          },
          "metadata": {},
          "execution_count": 14
        }
      ]
    },
    {
      "cell_type": "code",
      "source": [
        "df['Sales'].min(), df['Sales'].mean(), df['Sales'].max()"
      ],
      "metadata": {
        "colab": {
          "base_uri": "https://localhost:8080/"
        },
        "id": "pOBw2LCy3cVi",
        "outputId": "494b1585-dcc4-4892-e4a2-745e89b9344e"
      },
      "execution_count": 15,
      "outputs": [
        {
          "output_type": "execute_result",
          "data": {
            "text/plain": [
              "(0.444, 230.7690594591837, 22638.48)"
            ]
          },
          "metadata": {},
          "execution_count": 15
        }
      ]
    },
    {
      "cell_type": "markdown",
      "source": [
        "## 2. Sale by months and rolling average\n",
        "> Vẽ biểu đồ thể hiện biến động doanh số theo tháng. Cho biết doanh thu trung bình trong 3 tháng gần nhất."
      ],
      "metadata": {
        "id": "ydDMgJESVK06"
      }
    },
    {
      "cell_type": "code",
      "source": [
        "X = df.groupby([df['Category'], df['Order Date'].dt.to_period('M')])['Sales'].sum().reset_index().set_index('Order Date')\n",
        "\n",
        "plt.figure(figsize=(10, 5)).suptitle('Sale by categories by month', fontsize = 15)\n",
        "ax = plt.gca()\n",
        "for i in X['Category'].unique():\n",
        "  X[X['Category'] == i].plot(ax = ax, label = i, y = 'Sales')\n",
        "  \n",
        "plt.show()"
      ],
      "metadata": {
        "colab": {
          "base_uri": "https://localhost:8080/",
          "height": 381
        },
        "id": "553h27XH3trx",
        "outputId": "12ff721e-877a-4b88-b7fa-faa0950f9975"
      },
      "execution_count": 80,
      "outputs": [
        {
          "output_type": "display_data",
          "data": {
            "text/plain": [
              "<Figure size 720x360 with 1 Axes>"
            ],
            "image/png": "[encoded data removed]"
          },
          "metadata": {
            "needs_background": "light"
          }
        }
      ]
    },
    {
      "cell_type": "code",
      "source": [
        "X = df.groupby(df['Order Date'].dt.to_period('M'))['Sales'].sum()\n",
        "\n",
        "plt.figure(figsize=(10, 5)).suptitle('Total sale by month', fontsize = 15)\n",
        "X.plot()\n",
        "plt.show()"
      ],
      "metadata": {
        "colab": {
          "base_uri": "https://localhost:8080/",
          "height": 381
        },
        "id": "g8DiktF30KZ2",
        "outputId": "32626a6f-ec6c-482f-c978-afadf751022f"
      },
      "execution_count": 67,
      "outputs": [
        {
          "output_type": "display_data",
          "data": {
            "text/plain": [
              "<Figure size 720x360 with 1 Axes>"
            ],
            "image/png": "[encoded data removed]"
          },
          "metadata": {
            "needs_background": "light"
          }
        }
      ]
    },
    {
      "cell_type": "code",
      "source": [
        "# Rolling average with a window size of 3 months\n",
        "plt.figure(figsize=(10, 5)).suptitle('Rolling average of sales', fontsize = 15)\n",
        "X.rolling(3).mean().plot()\n",
        "plt.show()"
      ],
      "metadata": {
        "id": "W92gSBaPSFkG",
        "outputId": "d36265a0-056a-4c7d-f933-765913dc3842",
        "colab": {
          "base_uri": "https://localhost:8080/",
          "height": 381
        }
      },
      "execution_count": 79,
      "outputs": [
        {
          "output_type": "display_data",
          "data": {
            "text/plain": [
              "<Figure size 720x360 with 1 Axes>"
            ],
            "image/png": "[encoded data removed]"
          },
          "metadata": {
            "needs_background": "light"
          }
        }
      ]
    },
    {
      "cell_type": "code",
      "source": [
        "print('Mean sale of the last 3 months = ', X.rolling(3).mean()[-1])"
      ],
      "metadata": {
        "id": "7PNht1LITqr8",
        "outputId": "c1d8da49-956f-4d89-a1c5-3b30c77b4a0a",
        "colab": {
          "base_uri": "https://localhost:8080/"
        }
      },
      "execution_count": 78,
      "outputs": [
        {
          "output_type": "stream",
          "name": "stdout",
          "text": [
            "Mean sale of the last 3 months =  92805.55833333333\n"
          ]
        }
      ]
    },
    {
      "cell_type": "markdown",
      "source": [
        "## 3. Vẽ biểu đồ doanh số bán hàng theo quý và cho biết quý nào có tổng doanh số cao nhất?"
      ],
      "metadata": {
        "id": "zdllN3kiVck_"
      }
    },
    {
      "cell_type": "code",
      "source": [
        "X = df.groupby(df['Order Date'].dt.to_period('Q'))['Sales'].sum()\n",
        "\n",
        "plt.figure(figsize=(10, 5)).suptitle('Total sale by month', fontsize = 15)\n",
        "X.plot(kind = 'bar')\n",
        "plt.show()"
      ],
      "metadata": {
        "id": "POenkJsJWLLl",
        "outputId": "362a9dbd-a2d1-4af3-c4e1-2feb8126ddd3",
        "colab": {
          "base_uri": "https://localhost:8080/",
          "height": 399
        }
      },
      "execution_count": 82,
      "outputs": [
        {
          "output_type": "display_data",
          "data": {
            "text/plain": [
              "<Figure size 720x360 with 1 Axes>"
            ],
            "image/png": "[encoded data removed]"
          },
          "metadata": {
            "needs_background": "light"
          }
        }
      ]
    },
    {
      "cell_type": "markdown",
      "source": [
        "> Observation: Sale increase from Q1 to Q4 and repeat each year. Quarter 4 of 2018 had the highest sales across the dataset"
      ],
      "metadata": {
        "id": "B699InyfWuC1"
      }
    },
    {
      "cell_type": "code",
      "source": [
        "# X = df.groupby([df['Category'], df['Order Date'].dt.to_period('Q')])['Sales'].sum().reset_index().set_index('Order Date')\n",
        "\n",
        "# x = X.pivot(index = 'Order Date', columns = 'Category')\n",
        "# print(X)\n",
        "\n",
        "# plt.figure(figsize=(10, 5)).suptitle('Sale by categories by month', fontsize = 15)\n",
        "# ax = plt.gca()\n",
        "# # for i in X['Category'].unique():\n",
        "# X.plot(ax = ax, y = 'Sales', rot = 0, kind = 'bar')\n",
        "  \n",
        "# plt.show()"
      ],
      "metadata": {
        "id": "LcbCVThaXmw3"
      },
      "execution_count": 110,
      "outputs": []
    },
    {
      "cell_type": "markdown",
      "source": [
        "## 4. Tính thời gian trung giao hàng trung bình (ship date - order date) theo từng tháng và vẽ biểu đồ mô tả sự biến thiên của con số này."
      ],
      "metadata": {
        "id": "jNNRg6kumKyg"
      }
    },
    {
      "cell_type": "code",
      "source": [
        "df['Days to Ship'] = df['Ship Date'] - df['Order Date']\n",
        "\n",
        "X = df.groupby(df['Order Date'].dt.to_period('M'))['Days to Ship'].mean()\n",
        "\n",
        "plt.figure(figsize=(10, 5)).suptitle('Average days to ship', fontsize = 15)\n",
        "X.plot(ylabel = 'Days')\n",
        "plt.show()"
      ],
      "metadata": {
        "id": "LlatA6renfOY",
        "outputId": "e6af1ae9-c177-47ae-8869-d2d7d68afa0a",
        "colab": {
          "base_uri": "https://localhost:8080/",
          "height": 381
        }
      },
      "execution_count": 122,
      "outputs": [
        {
          "output_type": "display_data",
          "data": {
            "text/plain": [
              "<Figure size 720x360 with 1 Axes>"
            ],
            "image/png": "[encoded data removed]"
          },
          "metadata": {
            "needs_background": "light"
          }
        }
      ]
    },
    {
      "cell_type": "markdown",
      "source": [
        "## 5. Vẽ biểu đồ thể hiện sức mua theo từng thành phố. Cho biết top 3 thành phố có doanh số thấp nhất và 3 thành phố có doanh số cao nhất."
      ],
      "metadata": {
        "id": "LTL4F_g1pSgE"
      }
    },
    {
      "cell_type": "code",
      "source": [
        "print('Number of unique city names = ', df['City'].nunique())\n",
        "print('Number of unique city - state names = ', len(df.groupby(['City', 'State'])))"
      ],
      "metadata": {
        "id": "GGVkCh6JpcDw",
        "outputId": "9abefbd0-57d7-439f-d865-9c73ab8f8592",
        "colab": {
          "base_uri": "https://localhost:8080/"
        }
      },
      "execution_count": 169,
      "outputs": [
        {
          "output_type": "stream",
          "name": "stdout",
          "text": [
            "Number of unique city names =  529\n",
            "Number of unique city - state names =  600\n"
          ]
        }
      ]
    },
    {
      "cell_type": "markdown",
      "source": [
        "> Observation: Because the number of unique pair of city and state names was higher than the number of unique city names, many different cities in the data set have the same name. We don't have to check the same city names in different countries as the data set only have 1 country (US)."
      ],
      "metadata": {
        "id": "hHjO4xHvsPXF"
      }
    },
    {
      "cell_type": "code",
      "source": [
        "X = df.groupby(['City','State'])['Sales'].sum().sort_values()\n",
        "plt.figure(figsize=(10, 5)).suptitle('Top 10 cities with highest sale', fontsize = 15)\n",
        "X[-10:].plot(kind='barh')\n",
        "plt.show()"
      ],
      "metadata": {
        "id": "IzfaYzCUyXwZ",
        "outputId": "e0024e43-7cfa-4687-871a-c47eb0659cd9",
        "colab": {
          "base_uri": "https://localhost:8080/",
          "height": 356
        }
      },
      "execution_count": 191,
      "outputs": [
        {
          "output_type": "display_data",
          "data": {
            "text/plain": [
              "<Figure size 720x360 with 1 Axes>"
            ],
            "image/png": "[encoded data removed]"
          },
          "metadata": {
            "needs_background": "light"
          }
        }
      ]
    },
    {
      "cell_type": "code",
      "source": [
        "X = df.groupby(['City','State'])['Sales'].sum().sort_values()\n",
        "plt.figure(figsize=(10, 5)).suptitle('Top 3 cities with highest sale', fontsize = 15)\n",
        "X[-3:].plot(kind='barh')\n",
        "plt.show()"
      ],
      "metadata": {
        "id": "4CzCYQ4ks91q",
        "outputId": "569a1dfa-01fd-4190-9098-18714207716e",
        "colab": {
          "base_uri": "https://localhost:8080/",
          "height": 356
        }
      },
      "execution_count": 184,
      "outputs": [
        {
          "output_type": "display_data",
          "data": {
            "text/plain": [
              "<Figure size 720x360 with 1 Axes>"
            ],
            "image/png": "[encoded data removed]"
          },
          "metadata": {
            "needs_background": "light"
          }
        }
      ]
    },
    {
      "cell_type": "code",
      "source": [
        "plt.figure(figsize=(10, 5)).suptitle('Top 3 cities with lowest sale', fontsize = 15)\n",
        "X[:3].plot(kind='barh')\n",
        "plt.show()"
      ],
      "metadata": {
        "id": "c8NeNyM4wWpH",
        "outputId": "282ba5aa-c27f-4909-85ac-989ca088c426",
        "colab": {
          "base_uri": "https://localhost:8080/",
          "height": 356
        }
      },
      "execution_count": 186,
      "outputs": [
        {
          "output_type": "display_data",
          "data": {
            "text/plain": [
              "<Figure size 720x360 with 1 Axes>"
            ],
            "image/png": "[encoded data removed]"
          },
          "metadata": {
            "needs_background": "light"
          }
        }
      ]
    },
    {
      "cell_type": "markdown",
      "source": [
        "## 6. Vẽ biểu đồ thể hiện tỉ trọng doanh số theo bang (state) và cho biết trung bình doanh số của 5 bang dẫn đầu về sức mua."
      ],
      "metadata": {
        "id": "Y265C9YLymQK"
      }
    },
    {
      "cell_type": "code",
      "source": [
        "X = df.groupby(['State'])['Sales'].sum().sort_values()\n",
        "total = X.sum()\n",
        "X = X/total * 100\n",
        "total_other = X[:-5].sum()\n",
        "\n",
        "Y = X[-5:]\n",
        "Y['Others'] = total_other\n",
        "\n",
        "plt.figure(figsize=(7, 7)).suptitle('Top 5 states with highest sale vs the rest', fontsize = 15)\n",
        "Y.plot(kind='pie', autopct='%.2f%%')\n",
        "plt.show()"
      ],
      "metadata": {
        "id": "v_8lYcLWzD0f",
        "outputId": "02eff276-e4a0-4bd9-86f4-2d54adcd52a0",
        "colab": {
          "base_uri": "https://localhost:8080/",
          "height": 462
        }
      },
      "execution_count": 222,
      "outputs": [
        {
          "output_type": "display_data",
          "data": {
            "text/plain": [
              "<Figure size 504x504 with 1 Axes>"
            ],
            "image/png": "[encoded data removed]"
          },
          "metadata": {}
        }
      ]
    },
    {
      "cell_type": "code",
      "source": [
        "X = df.groupby(['State'])['Sales'].sum().sort_values()\n",
        "\n",
        "plt.figure(figsize=(10, 5)).suptitle('Top 5 states with highest sale', fontsize = 15)\n",
        "X[-5:].plot(kind='barh')\n",
        "plt.show()"
      ],
      "metadata": {
        "id": "KqtGnCfB2ja8",
        "outputId": "8102ab7f-7865-4b25-d1c6-a5c2165ac3c3",
        "colab": {
          "base_uri": "https://localhost:8080/",
          "height": 356
        }
      },
      "execution_count": 225,
      "outputs": [
        {
          "output_type": "display_data",
          "data": {
            "text/plain": [
              "<Figure size 720x360 with 1 Axes>"
            ],
            "image/png": "[encoded data removed]"
          },
          "metadata": {
            "needs_background": "light"
          }
        }
      ]
    },
    {
      "cell_type": "markdown",
      "source": [
        "## 7.Cho biết các bang dẫn đầu doanh số theo từng vùng (east, west, south, central,..)."
      ],
      "metadata": {
        "id": "we2JYWQI3CxQ"
      }
    },
    {
      "cell_type": "code",
      "source": [
        "X = df.groupby(['State', 'Region'])['Sales'].sum().sort_values()\n",
        "pd.concat(X.index, X.values)\n",
        "\n",
        "# plt.figure(figsize=(10, 5)).suptitle('Top 5 states with highest sale', fontsize = 15)\n",
        "# X[X['Region'] == 'East'].plot(kind='barh')\n",
        "# plt.show()"
      ],
      "metadata": {
        "id": "X2OROaAT3myq",
        "outputId": "0d2ce549-e48d-4d94-d4c0-fc514ad54373",
        "colab": {
          "base_uri": "https://localhost:8080/",
          "height": 409
        }
      },
      "execution_count": 237,
      "outputs": [
        {
          "output_type": "stream",
          "name": "stderr",
          "text": [
            "/usr/local/lib/python3.7/dist-packages/ipykernel_launcher.py:2: FutureWarning: In a future version of pandas all arguments of concat except for the argument 'objs' will be keyword-only\n",
            "  \n"
          ]
        },
        {
          "output_type": "error",
          "ename": "TypeError",
          "evalue": "ignored",
          "traceback": [
            "\u001b[0;31m---------------------------------------------------------------------------\u001b[0m",
            "\u001b[0;31mTypeError\u001b[0m                                 Traceback (most recent call last)",
            "\u001b[0;32m<ipython-input-237-ff666bd68d57>\u001b[0m in \u001b[0;36m<module>\u001b[0;34m\u001b[0m\n\u001b[1;32m      1\u001b[0m \u001b[0mX\u001b[0m \u001b[0;34m=\u001b[0m \u001b[0mdf\u001b[0m\u001b[0;34m.\u001b[0m\u001b[0mgroupby\u001b[0m\u001b[0;34m(\u001b[0m\u001b[0;34m[\u001b[0m\u001b[0;34m'State'\u001b[0m\u001b[0;34m,\u001b[0m \u001b[0;34m'Region'\u001b[0m\u001b[0;34m]\u001b[0m\u001b[0;34m)\u001b[0m\u001b[0;34m[\u001b[0m\u001b[0;34m'Sales'\u001b[0m\u001b[0;34m]\u001b[0m\u001b[0;34m.\u001b[0m\u001b[0msum\u001b[0m\u001b[0;34m(\u001b[0m\u001b[0;34m)\u001b[0m\u001b[0;34m.\u001b[0m\u001b[0msort_values\u001b[0m\u001b[0;34m(\u001b[0m\u001b[0;34m)\u001b[0m\u001b[0;34m\u001b[0m\u001b[0;34m\u001b[0m\u001b[0m\n\u001b[0;32m----> 2\u001b[0;31m \u001b[0mpd\u001b[0m\u001b[0;34m.\u001b[0m\u001b[0mconcat\u001b[0m\u001b[0;34m(\u001b[0m\u001b[0mX\u001b[0m\u001b[0;34m.\u001b[0m\u001b[0mindex\u001b[0m\u001b[0;34m,\u001b[0m \u001b[0mX\u001b[0m\u001b[0;34m.\u001b[0m\u001b[0mvalues\u001b[0m\u001b[0;34m)\u001b[0m\u001b[0;34m\u001b[0m\u001b[0;34m\u001b[0m\u001b[0m\n\u001b[0m\u001b[1;32m      3\u001b[0m \u001b[0;34m\u001b[0m\u001b[0m\n\u001b[1;32m      4\u001b[0m \u001b[0;31m# plt.figure(figsize=(10, 5)).suptitle('Top 5 states with highest sale', fontsize = 15)\u001b[0m\u001b[0;34m\u001b[0m\u001b[0;34m\u001b[0m\u001b[0;34m\u001b[0m\u001b[0m\n\u001b[1;32m      5\u001b[0m \u001b[0;31m# X[X['Region'] == 'East'].plot(kind='barh')\u001b[0m\u001b[0;34m\u001b[0m\u001b[0;34m\u001b[0m\u001b[0;34m\u001b[0m\u001b[0m\n",
            "\u001b[0;32m/usr/local/lib/python3.7/dist-packages/pandas/util/_decorators.py\u001b[0m in \u001b[0;36mwrapper\u001b[0;34m(*args, **kwargs)\u001b[0m\n\u001b[1;32m    309\u001b[0m                     \u001b[0mstacklevel\u001b[0m\u001b[0;34m=\u001b[0m\u001b[0mstacklevel\u001b[0m\u001b[0;34m,\u001b[0m\u001b[0;34m\u001b[0m\u001b[0;34m\u001b[0m\u001b[0m\n\u001b[1;32m    310\u001b[0m                 )\n\u001b[0;32m--> 311\u001b[0;31m             \u001b[0;32mreturn\u001b[0m \u001b[0mfunc\u001b[0m\u001b[0;34m(\u001b[0m\u001b[0;34m*\u001b[0m\u001b[0margs\u001b[0m\u001b[0;34m,\u001b[0m \u001b[0;34m**\u001b[0m\u001b[0mkwargs\u001b[0m\u001b[0;34m)\u001b[0m\u001b[0;34m\u001b[0m\u001b[0;34m\u001b[0m\u001b[0m\n\u001b[0m\u001b[1;32m    312\u001b[0m \u001b[0;34m\u001b[0m\u001b[0m\n\u001b[1;32m    313\u001b[0m         \u001b[0;32mreturn\u001b[0m \u001b[0mwrapper\u001b[0m\u001b[0;34m\u001b[0m\u001b[0;34m\u001b[0m\u001b[0m\n",
            "\u001b[0;32m/usr/local/lib/python3.7/dist-packages/pandas/core/reshape/concat.py\u001b[0m in \u001b[0;36mconcat\u001b[0;34m(objs, axis, join, ignore_index, keys, levels, names, verify_integrity, sort, copy)\u001b[0m\n\u001b[1;32m    302\u001b[0m         \u001b[0mverify_integrity\u001b[0m\u001b[0;34m=\u001b[0m\u001b[0mverify_integrity\u001b[0m\u001b[0;34m,\u001b[0m\u001b[0;34m\u001b[0m\u001b[0;34m\u001b[0m\u001b[0m\n\u001b[1;32m    303\u001b[0m         \u001b[0mcopy\u001b[0m\u001b[0;34m=\u001b[0m\u001b[0mcopy\u001b[0m\u001b[0;34m,\u001b[0m\u001b[0;34m\u001b[0m\u001b[0;34m\u001b[0m\u001b[0m\n\u001b[0;32m--> 304\u001b[0;31m         \u001b[0msort\u001b[0m\u001b[0;34m=\u001b[0m\u001b[0msort\u001b[0m\u001b[0;34m,\u001b[0m\u001b[0;34m\u001b[0m\u001b[0;34m\u001b[0m\u001b[0m\n\u001b[0m\u001b[1;32m    305\u001b[0m     )\n\u001b[1;32m    306\u001b[0m \u001b[0;34m\u001b[0m\u001b[0m\n",
            "\u001b[0;32m/usr/local/lib/python3.7/dist-packages/pandas/core/reshape/concat.py\u001b[0m in \u001b[0;36m__init__\u001b[0;34m(self, objs, axis, join, keys, levels, names, ignore_index, verify_integrity, copy, sort)\u001b[0m\n\u001b[1;32m    382\u001b[0m                     \u001b[0;34m\"only Series and DataFrame objs are valid\"\u001b[0m\u001b[0;34m\u001b[0m\u001b[0;34m\u001b[0m\u001b[0m\n\u001b[1;32m    383\u001b[0m                 )\n\u001b[0;32m--> 384\u001b[0;31m                 \u001b[0;32mraise\u001b[0m \u001b[0mTypeError\u001b[0m\u001b[0;34m(\u001b[0m\u001b[0mmsg\u001b[0m\u001b[0;34m)\u001b[0m\u001b[0;34m\u001b[0m\u001b[0;34m\u001b[0m\u001b[0m\n\u001b[0m\u001b[1;32m    385\u001b[0m \u001b[0;34m\u001b[0m\u001b[0m\n\u001b[1;32m    386\u001b[0m             \u001b[0mndims\u001b[0m\u001b[0;34m.\u001b[0m\u001b[0madd\u001b[0m\u001b[0;34m(\u001b[0m\u001b[0mobj\u001b[0m\u001b[0;34m.\u001b[0m\u001b[0mndim\u001b[0m\u001b[0;34m)\u001b[0m\u001b[0;34m\u001b[0m\u001b[0;34m\u001b[0m\u001b[0m\n",
            "\u001b[0;31mTypeError\u001b[0m: cannot concatenate object of type '<class 'tuple'>'; only Series and DataFrame objs are valid"
          ]
        }
      ]
    }
  ]
}